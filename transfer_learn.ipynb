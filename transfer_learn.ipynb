{
 "cells": [
  {
   "cell_type": "code",
   "execution_count": 1,
   "metadata": {},
   "outputs": [
    {
     "name": "stderr",
     "output_type": "stream",
     "text": [
      "/usr/lib/python3/dist-packages/h5py/__init__.py:36: FutureWarning: Conversion of the second argument of issubdtype from `float` to `np.floating` is deprecated. In future, it will be treated as `np.float64 == np.dtype(float).type`.\n",
      "  from ._conv import register_converters as _register_converters\n",
      "Using TensorFlow backend.\n"
     ]
    }
   ],
   "source": [
    "import os\n",
    "os.environ[\"CUDA_VISIBLE_DEVICES\"]=\"1\";\n",
    "\n",
    "import keras\n",
    "from keras.applications.vgg16 import VGG16\n",
    "from keras.datasets import cifar10"
   ]
  },
  {
   "cell_type": "markdown",
   "metadata": {},
   "source": [
    "# Split data into testing and training"
   ]
  },
  {
   "cell_type": "code",
   "execution_count": 2,
   "metadata": {},
   "outputs": [],
   "source": [
    "(x_train, y_train), (x_test, y_test) = cifar10.load_data()"
   ]
  },
  {
   "cell_type": "markdown",
   "metadata": {},
   "source": [
    "# Display a test example image"
   ]
  },
  {
   "cell_type": "code",
   "execution_count": 3,
   "metadata": {},
   "outputs": [
    {
     "name": "stdout",
     "output_type": "stream",
     "text": [
      "Label: [9]\n"
     ]
    }
   ],
   "source": [
    "import matplotlib.pyplot as plt\n",
    "\n",
    "plt.imshow(x_train[1])\n",
    "print(\"Label: {}\".format(y_train[1]))"
   ]
  },
  {
   "cell_type": "markdown",
   "metadata": {},
   "source": [
    "# Set data to one-hot encoded format (vector of 10 class binary values)"
   ]
  },
  {
   "cell_type": "code",
   "execution_count": 4,
   "metadata": {},
   "outputs": [],
   "source": [
    "y_svm_train = y_train\n",
    "y_train = keras.utils.to_categorical(y_train, 10)\n",
    "\n",
    "y_svm_test = y_test\n",
    "y_test = keras.utils.to_categorical(y_test, 10)"
   ]
  },
  {
   "cell_type": "markdown",
   "metadata": {},
   "source": [
    "# Normalize the images"
   ]
  },
  {
   "cell_type": "code",
   "execution_count": 5,
   "metadata": {},
   "outputs": [],
   "source": [
    "from tensorflow.keras.applications.vgg16 import preprocess_input\n",
    "\n",
    "x_test = preprocess_input(x_test)\n",
    "x_train = preprocess_input(x_train)"
   ]
  },
  {
   "cell_type": "markdown",
   "metadata": {},
   "source": [
    "# Initialize VGG-16 Model"
   ]
  },
  {
   "cell_type": "code",
   "execution_count": 6,
   "metadata": {},
   "outputs": [
    {
     "name": "stdout",
     "output_type": "stream",
     "text": [
      "_________________________________________________________________\n",
      "Layer (type)                 Output Shape              Param #   \n",
      "=================================================================\n",
      "input_1 (InputLayer)         (None, 32, 32, 3)         0         \n",
      "_________________________________________________________________\n",
      "block1_conv1 (Conv2D)        (None, 32, 32, 64)        1792      \n",
      "_________________________________________________________________\n",
      "block1_conv2 (Conv2D)        (None, 32, 32, 64)        36928     \n",
      "_________________________________________________________________\n",
      "block1_pool (MaxPooling2D)   (None, 16, 16, 64)        0         \n",
      "_________________________________________________________________\n",
      "block2_conv1 (Conv2D)        (None, 16, 16, 128)       73856     \n",
      "_________________________________________________________________\n",
      "block2_conv2 (Conv2D)        (None, 16, 16, 128)       147584    \n",
      "_________________________________________________________________\n",
      "block2_pool (MaxPooling2D)   (None, 8, 8, 128)         0         \n",
      "_________________________________________________________________\n",
      "block3_conv1 (Conv2D)        (None, 8, 8, 256)         295168    \n",
      "_________________________________________________________________\n",
      "block3_conv2 (Conv2D)        (None, 8, 8, 256)         590080    \n",
      "_________________________________________________________________\n",
      "block3_conv3 (Conv2D)        (None, 8, 8, 256)         590080    \n",
      "_________________________________________________________________\n",
      "block3_pool (MaxPooling2D)   (None, 4, 4, 256)         0         \n",
      "_________________________________________________________________\n",
      "block4_conv1 (Conv2D)        (None, 4, 4, 512)         1180160   \n",
      "_________________________________________________________________\n",
      "block4_conv2 (Conv2D)        (None, 4, 4, 512)         2359808   \n",
      "_________________________________________________________________\n",
      "block4_conv3 (Conv2D)        (None, 4, 4, 512)         2359808   \n",
      "_________________________________________________________________\n",
      "block4_pool (MaxPooling2D)   (None, 2, 2, 512)         0         \n",
      "_________________________________________________________________\n",
      "block5_conv1 (Conv2D)        (None, 2, 2, 512)         2359808   \n",
      "_________________________________________________________________\n",
      "block5_conv2 (Conv2D)        (None, 2, 2, 512)         2359808   \n",
      "_________________________________________________________________\n",
      "block5_conv3 (Conv2D)        (None, 2, 2, 512)         2359808   \n",
      "_________________________________________________________________\n",
      "block5_pool (MaxPooling2D)   (None, 1, 1, 512)         0         \n",
      "=================================================================\n",
      "Total params: 14,714,688\n",
      "Trainable params: 14,714,688\n",
      "Non-trainable params: 0\n",
      "_________________________________________________________________\n",
      "None\n"
     ]
    }
   ],
   "source": [
    "model = VGG16(weights='none', include_top=False, input_shape=(32,32,3), classes=10)\n",
    "print(model.summary())"
   ]
  },
  {
   "cell_type": "markdown",
   "metadata": {},
   "source": [
    "# Replace Top Layers of VGG"
   ]
  },
  {
   "cell_type": "markdown",
   "metadata": {},
   "source": [
    "# from keras.layers import Flatten, Dense\n",
    "from keras.models import Model\n",
    "\n",
    "x = model.get_layer('block5_pool').output\n",
    "x = Flatten(name='flatten')(x)\n",
    "x = Dense(4096, activation='relu', name='fc1')(x)\n",
    "x = Dense(4096, activation='relu', name='fc2')(x)\n",
    "x = Dense(10, activation='softmax', name='predictions')(x)\n",
    "\n",
    "model_updated = Model(inputs=model.input, outputs=x)\n",
    "print(model_updated.summary())"
   ]
  },
  {
   "cell_type": "code",
   "execution_count": 7,
   "metadata": {},
   "outputs": [],
   "source": [
    "from keras.layers import Flatten, Dense\n",
    "from keras.models import Model\n",
    "\n",
    "x = model.get_layer('block5_pool').output\n",
    "x = Flatten(name='flatten')(x)\n",
    "x = Dense(512, activation='relu', name='fc1')(x)\n",
    "x = Dense(4096, activation='relu', name='fc2')(x)\n",
    "x = Dense(10, activation='softmax', name='predictions')(x)\n",
    "\n",
    "model_updated = Model(inputs=model.input, outputs=x)"
   ]
  },
  {
   "cell_type": "code",
   "execution_count": 8,
   "metadata": {},
   "outputs": [],
   "source": [
    "def learning_rate_schedule(epoch):\n",
    "    if epoch <= 10:\n",
    "        return 1e-4 # 0.00001\n",
    "    elif epoch <= 20:\n",
    "        return 1e-5\n",
    "    elif epoch <= 30:\n",
    "        return 1e-6\n",
    "    else:\n",
    "        return 1e-7\n",
    "    return LR"
   ]
  },
  {
   "cell_type": "code",
   "execution_count": 9,
   "metadata": {},
   "outputs": [],
   "source": [
    "model_updated.save_weights('model_initial.h5')"
   ]
  },
  {
   "cell_type": "markdown",
   "metadata": {},
   "source": [
    "# Perform Training Three Times"
   ]
  },
  {
   "cell_type": "code",
   "execution_count": 10,
   "metadata": {},
   "outputs": [
    {
     "name": "stdout",
     "output_type": "stream",
     "text": [
      "Train on 50000 samples, validate on 10000 samples\n",
      "Epoch 1/10\n",
      "50000/50000 [==============================] - 21s 418us/step - loss: 0.8735 - acc: 0.7002 - val_loss: 0.6288 - val_acc: 0.7865\n",
      "Epoch 2/10\n",
      "50000/50000 [==============================] - 18s 364us/step - loss: 0.4778 - acc: 0.8387 - val_loss: 0.4918 - val_acc: 0.8360\n",
      "Epoch 3/10\n",
      "50000/50000 [==============================] - 19s 374us/step - loss: 0.3334 - acc: 0.8855 - val_loss: 0.4756 - val_acc: 0.8421\n",
      "Epoch 4/10\n",
      "50000/50000 [==============================] - 19s 376us/step - loss: 0.2311 - acc: 0.9208 - val_loss: 0.5388 - val_acc: 0.8337\n",
      "Epoch 5/10\n",
      "50000/50000 [==============================] - 19s 376us/step - loss: 0.1581 - acc: 0.9463 - val_loss: 0.5317 - val_acc: 0.8482\n",
      "Epoch 6/10\n",
      "50000/50000 [==============================] - 19s 375us/step - loss: 0.1149 - acc: 0.9617 - val_loss: 0.5746 - val_acc: 0.8523\n",
      "Epoch 7/10\n",
      "50000/50000 [==============================] - 19s 377us/step - loss: 0.0916 - acc: 0.9692 - val_loss: 0.5704 - val_acc: 0.8529\n",
      "Epoch 8/10\n",
      "50000/50000 [==============================] - 19s 376us/step - loss: 0.0689 - acc: 0.9772 - val_loss: 0.6395 - val_acc: 0.8486\n",
      "Epoch 9/10\n",
      "50000/50000 [==============================] - 19s 376us/step - loss: 0.0644 - acc: 0.9785 - val_loss: 0.5751 - val_acc: 0.8643\n",
      "Epoch 10/10\n",
      "50000/50000 [==============================] - 19s 376us/step - loss: 0.0550 - acc: 0.9822 - val_loss: 0.6444 - val_acc: 0.8542\n",
      "\n",
      "Train on 50000 samples, validate on 10000 samples\n",
      "Epoch 1/10\n",
      "50000/50000 [==============================] - 20s 396us/step - loss: 0.8861 - acc: 0.6965 - val_loss: 0.6348 - val_acc: 0.7856\n",
      "Epoch 2/10\n",
      "50000/50000 [==============================] - 19s 377us/step - loss: 0.4812 - acc: 0.8357 - val_loss: 0.4986 - val_acc: 0.8317\n",
      "Epoch 3/10\n",
      "50000/50000 [==============================] - 19s 376us/step - loss: 0.3264 - acc: 0.8872 - val_loss: 0.4590 - val_acc: 0.8510\n",
      "Epoch 4/10\n",
      "50000/50000 [==============================] - 19s 377us/step - loss: 0.2314 - acc: 0.9205 - val_loss: 0.5136 - val_acc: 0.8372\n",
      "Epoch 5/10\n",
      "50000/50000 [==============================] - 19s 376us/step - loss: 0.1558 - acc: 0.9466 - val_loss: 0.5454 - val_acc: 0.8516\n",
      "Epoch 6/10\n",
      "50000/50000 [==============================] - 19s 377us/step - loss: 0.1159 - acc: 0.9597 - val_loss: 0.6144 - val_acc: 0.8507\n",
      "Epoch 7/10\n",
      "50000/50000 [==============================] - 19s 375us/step - loss: 0.0858 - acc: 0.9714 - val_loss: 0.6136 - val_acc: 0.8433\n",
      "Epoch 8/10\n",
      "50000/50000 [==============================] - 19s 375us/step - loss: 0.0736 - acc: 0.9759 - val_loss: 0.6026 - val_acc: 0.8540\n",
      "Epoch 9/10\n",
      "50000/50000 [==============================] - 19s 374us/step - loss: 0.0570 - acc: 0.9809 - val_loss: 0.6543 - val_acc: 0.8495\n",
      "Epoch 10/10\n",
      "50000/50000 [==============================] - 19s 375us/step - loss: 0.0534 - acc: 0.9824 - val_loss: 0.7626 - val_acc: 0.8370\n",
      "\n",
      "Train on 50000 samples, validate on 10000 samples\n",
      "Epoch 1/10\n",
      "50000/50000 [==============================] - 20s 398us/step - loss: 0.8822 - acc: 0.6981 - val_loss: 0.6248 - val_acc: 0.7928\n",
      "Epoch 2/10\n",
      "50000/50000 [==============================] - 19s 374us/step - loss: 0.4914 - acc: 0.8324 - val_loss: 0.5207 - val_acc: 0.8327\n",
      "Epoch 3/10\n",
      "50000/50000 [==============================] - 19s 375us/step - loss: 0.3360 - acc: 0.8844 - val_loss: 0.4710 - val_acc: 0.8418\n",
      "Epoch 4/10\n",
      "50000/50000 [==============================] - 19s 374us/step - loss: 0.2322 - acc: 0.9194 - val_loss: 0.4968 - val_acc: 0.8470\n",
      "Epoch 5/10\n",
      "50000/50000 [==============================] - 19s 375us/step - loss: 0.1628 - acc: 0.9440 - val_loss: 0.5101 - val_acc: 0.8469\n",
      "Epoch 6/10\n",
      "50000/50000 [==============================] - 19s 374us/step - loss: 0.1105 - acc: 0.9627 - val_loss: 0.6335 - val_acc: 0.8378\n",
      "Epoch 7/10\n",
      "50000/50000 [==============================] - 19s 374us/step - loss: 0.0862 - acc: 0.9713 - val_loss: 0.5976 - val_acc: 0.8418\n",
      "Epoch 8/10\n",
      "50000/50000 [==============================] - 19s 374us/step - loss: 0.0823 - acc: 0.9730 - val_loss: 0.6060 - val_acc: 0.8526\n",
      "Epoch 9/10\n",
      "50000/50000 [==============================] - 19s 374us/step - loss: 0.0688 - acc: 0.9778 - val_loss: 0.6154 - val_acc: 0.8499\n",
      "Epoch 10/10\n",
      "50000/50000 [==============================] - 19s 373us/step - loss: 0.0584 - acc: 0.9801 - val_loss: 0.6354 - val_acc: 0.8517\n",
      "\n"
     ]
    }
   ],
   "source": [
    "from keras import optimizers\n",
    "from keras.callbacks import EarlyStopping\n",
    "\n",
    "model_updated.save_weights('model_initial.h5')\n",
    "training_runs = []\n",
    "for i in range(3):\n",
    "    #model_updated.compile(loss='categorical_crossentropy', optimizer='sgd', metrics=['accuracy'])\n",
    "    model_updated.compile(loss='categorical_crossentropy', optimizer=optimizers.adam(lr=0.0001), metrics=['accuracy'])\n",
    "    keras.callbacks.LearningRateScheduler(learning_rate_schedule)\n",
    "    history = model_updated.fit(x_train, y_train, batch_size=128, shuffle=True, epochs=10, validation_data=(x_test, y_test))\n",
    "    training_runs.append(history)\n",
    "    model_updated.get_weights()\n",
    "    if i == 2:\n",
    "        model_updated.save_weights('model1.h5')\n",
    "    else:\n",
    "        model_updated.load_weights('model_initial.h5')\n",
    "    print()"
   ]
  },
  {
   "cell_type": "markdown",
   "metadata": {},
   "source": [
    "# Graphs and Metrics"
   ]
  },
  {
   "cell_type": "code",
   "execution_count": 11,
   "metadata": {},
   "outputs": [
    {
     "data": {
      "image/png": "[encoded data removed]",
      "text/plain": [
       "<Figure size 432x288 with 6 Axes>"
      ]
     },
     "metadata": {},
     "output_type": "display_data"
    },
    {
     "name": "stdout",
     "output_type": "stream",
     "text": [
      "Average training accuracy: 0.9815666666984558\n",
      "Average testing accuracy: 0.8476333333333333\n"
     ]
    }
   ],
   "source": [
    "import matplotlib.pyplot as plt\n",
    "import numpy as np\n",
    "\n",
    "plt.subplot(2, 3, 1)\n",
    "plt.plot(training_runs[0].history['acc'])\n",
    "plt.legend(['train'], loc='lower right')\n",
    "\n",
    "plt.subplot(2, 3, 2)\n",
    "plt.plot(training_runs[1].history['acc'])\n",
    "plt.legend(['train'], loc='lower right')\n",
    "\n",
    "plt.subplot(2, 3, 3)\n",
    "plt.plot(training_runs[2].history['acc'])\n",
    "plt.legend(['train'], loc='lower right')\n",
    "\n",
    "plt.subplot(2, 3, 4)\n",
    "plt.plot(training_runs[0].history['val_acc'])\n",
    "plt.legend(['test'], loc='lower right')\n",
    "\n",
    "plt.subplot(2, 3, 5)\n",
    "plt.plot(training_runs[1].history['val_acc'])\n",
    "plt.legend(['test'], loc='lower right')\n",
    "\n",
    "plt.subplot(2, 3, 6)\n",
    "plt.plot(training_runs[2].history['val_acc'])\n",
    "plt.legend(['test'], loc='lower right')\n",
    "\n",
    "plt.tight_layout() \n",
    "\n",
    "plt.show()\n",
    "\n",
    "print(\"Average training accuracy: {}\".format(np.mean([training_runs[0].history['acc'][-1], \n",
    "                                                     training_runs[1].history['acc'][-1], training_runs[2].history['acc'][-1]])))\n",
    "print(\"Average testing accuracy: {}\".format(np.mean([training_runs[0].history['val_acc'][-1], \n",
    "                                                     training_runs[1].history['val_acc'][-1], training_runs[2].history['val_acc'][-1]])))"
   ]
  },
  {
   "cell_type": "markdown",
   "metadata": {},
   "source": [
    "# Setup CNN for SVM Model"
   ]
  },
  {
   "cell_type": "code",
   "execution_count": 12,
   "metadata": {},
   "outputs": [
    {
     "name": "stdout",
     "output_type": "stream",
     "text": [
      "_________________________________________________________________\n",
      "Layer (type)                 Output Shape              Param #   \n",
      "=================================================================\n",
      "input_1 (InputLayer)         (None, 32, 32, 3)         0         \n",
      "_________________________________________________________________\n",
      "block1_conv1 (Conv2D)        (None, 32, 32, 64)        1792      \n",
      "_________________________________________________________________\n",
      "block1_conv2 (Conv2D)        (None, 32, 32, 64)        36928     \n",
      "_________________________________________________________________\n",
      "block1_pool (MaxPooling2D)   (None, 16, 16, 64)        0         \n",
      "_________________________________________________________________\n",
      "block2_conv1 (Conv2D)        (None, 16, 16, 128)       73856     \n",
      "_________________________________________________________________\n",
      "block2_conv2 (Conv2D)        (None, 16, 16, 128)       147584    \n",
      "_________________________________________________________________\n",
      "block2_pool (MaxPooling2D)   (None, 8, 8, 128)         0         \n",
      "_________________________________________________________________\n",
      "block3_conv1 (Conv2D)        (None, 8, 8, 256)         295168    \n",
      "_________________________________________________________________\n",
      "block3_conv2 (Conv2D)        (None, 8, 8, 256)         590080    \n",
      "_________________________________________________________________\n",
      "block3_conv3 (Conv2D)        (None, 8, 8, 256)         590080    \n",
      "_________________________________________________________________\n",
      "block3_pool (MaxPooling2D)   (None, 4, 4, 256)         0         \n",
      "_________________________________________________________________\n",
      "block4_conv1 (Conv2D)        (None, 4, 4, 512)         1180160   \n",
      "_________________________________________________________________\n",
      "block4_conv2 (Conv2D)        (None, 4, 4, 512)         2359808   \n",
      "_________________________________________________________________\n",
      "block4_conv3 (Conv2D)        (None, 4, 4, 512)         2359808   \n",
      "_________________________________________________________________\n",
      "block4_pool (MaxPooling2D)   (None, 2, 2, 512)         0         \n",
      "_________________________________________________________________\n",
      "block5_conv1 (Conv2D)        (None, 2, 2, 512)         2359808   \n",
      "_________________________________________________________________\n",
      "block5_conv2 (Conv2D)        (None, 2, 2, 512)         2359808   \n",
      "_________________________________________________________________\n",
      "block5_conv3 (Conv2D)        (None, 2, 2, 512)         2359808   \n",
      "_________________________________________________________________\n",
      "block5_pool (MaxPooling2D)   (None, 1, 1, 512)         0         \n",
      "_________________________________________________________________\n",
      "flatten (Flatten)            (None, 512)               0         \n",
      "=================================================================\n",
      "Total params: 14,714,688\n",
      "Trainable params: 0\n",
      "Non-trainable params: 14,714,688\n",
      "_________________________________________________________________\n",
      "None\n"
     ]
    }
   ],
   "source": [
    "model_svm = Model(inputs=model.input, outputs=x)\n",
    "model_svm.load_weights('model_initial.h5')\n",
    "model_svm = Model(inputs=model_svm.input, outputs=model_svm.layers[-4].output)\n",
    "\n",
    "# locks the network's training parameters\n",
    "for layer in model_svm.layers:\n",
    "    layer.trainable = False\n",
    "    \n",
    "print(model_svm.summary())"
   ]
  },
  {
   "cell_type": "markdown",
   "metadata": {},
   "source": [
    "# Train SVM Model"
   ]
  },
  {
   "cell_type": "code",
   "execution_count": 13,
   "metadata": {},
   "outputs": [
    {
     "name": "stdout",
     "output_type": "stream",
     "text": [
      "Gathering SVM Training Data...\n",
      "Currently Training SVM...\n",
      "Finished Training SVM\n"
     ]
    }
   ],
   "source": [
    "from sklearn import svm\n",
    "from sklearn.metrics import accuracy_score\n",
    "\n",
    "y_svm_train = y_svm_train.flatten()\n",
    "print(\"Gathering SVM Training Data...\")\n",
    "training_data = []\n",
    "for i in x_train:\n",
    "    i = i.reshape((1, 32, 32, 3))\n",
    "    sample = model_svm.predict(i)\n",
    "    training_data.append(sample[0])\n",
    "\n",
    "print(\"Currently Training SVM...\")\n",
    "classifier = svm.SVC(gamma=0.01, decision_function_shape='ovo')\n",
    "classifier.fit(training_data, y_svm_train)\n",
    "print(\"Finished Training SVM\")"
   ]
  },
  {
   "cell_type": "markdown",
   "metadata": {},
   "source": [
    "# Test SVM Model"
   ]
  },
  {
   "cell_type": "code",
   "execution_count": 14,
   "metadata": {},
   "outputs": [
    {
     "name": "stdout",
     "output_type": "stream",
     "text": [
      "Accuracy of the model is: 0.1009\n"
     ]
    }
   ],
   "source": [
    "from sklearn.metrics import accuracy_score\n",
    "\n",
    "y_svm_test = y_svm_test.flatten()\n",
    "prediction = []\n",
    "for i in x_test: \n",
    "    i = i.reshape((1, 32, 32, 3))\n",
    "    test = model_svm.predict(i)\n",
    "    test = classifier.predict([test[0]])\n",
    "    prediction.append(test[0])\n",
    "\n",
    "accuracy = accuracy_score(y_svm_test, prediction)\n",
    "print(\"Accuracy of the model is: {}\".format(accuracy))"
   ]
  },
  {
   "cell_type": "code",
   "execution_count": null,
   "metadata": {},
   "outputs": [],
   "source": []
  }
 ],
 "metadata": {
  "kernelspec": {
   "display_name": "Python 3",
   "language": "python",
   "name": "python3"
  },
  "language_info": {
   "codemirror_mode": {
    "name": "ipython",
    "version": 3
   },
   "file_extension": ".py",
   "mimetype": "text/x-python",
   "name": "python",
   "nbconvert_exporter": "python",
   "pygments_lexer": "ipython3",
   "version": "3.6.7"
  }
 },
 "nbformat": 4,
 "nbformat_minor": 2
}
