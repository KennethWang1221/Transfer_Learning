{
 "cells": [
  {
   "cell_type": "code",
   "execution_count": 1,
   "metadata": {
    "colab": {
     "base_uri": "https://localhost:8080/",
     "height": 122
    },
    "colab_type": "code",
    "id": "eMFos3LDuyDo",
    "outputId": "8a99f39f-8de1-428e-b6ec-a504556a13c6"
   },
   "outputs": [
    {
     "name": "stdout",
     "output_type": "stream",
     "text": [
      "Go to this URL in a browser: https://accounts.google.com/o/oauth2/auth?client_id=947318989803-6bn6qk8qdgf4n4g3pfee6491hc0brc4i.apps.googleusercontent.com&redirect_uri=urn%3Aietf%3Awg%3Aoauth%3A2.0%3Aoob&scope=email%20https%3A%2F%2Fwww.googleapis.com%2Fauth%2Fdocs.test%20https%3A%2F%2Fwww.googleapis.com%2Fauth%2Fdrive%20https%3A%2F%2Fwww.googleapis.com%2Fauth%2Fdrive.photos.readonly%20https%3A%2F%2Fwww.googleapis.com%2Fauth%2Fpeopleapi.readonly&response_type=code\n",
      "\n",
      "Enter your authorization code:\n",
      "··········\n",
      "Mounted at /content/drive\n"
     ]
    }
   ],
   "source": [
    "from google.colab import drive\n",
    "drive.mount('/content/drive')"
   ]
  },
  {
   "cell_type": "markdown",
   "metadata": {
    "colab_type": "text",
    "id": "oKcLCzcot0T5"
   },
   "source": [
    "**In this task, I use 15-Scene to train VGG16 from-scretch and pre-trained.And I found that from-scretech is not good even drop in local-minimum situation,I try to run more times and change loss function and learning rate but still not work well ,but for pre-trained is good ,the accuracy is 86% for one time 85%for three time**"
   ]
  },
  {
   "cell_type": "markdown",
   "metadata": {
    "colab_type": "text",
    "id": "DuFp5rNYKfYW"
   },
   "source": [
    "# **VGG16---15-Scene dataset**"
   ]
  },
  {
   "cell_type": "markdown",
   "metadata": {
    "colab_type": "text",
    "id": "aGPXbQcxKoEs"
   },
   "source": [
    "#  import necessary package and vgg16"
   ]
  },
  {
   "cell_type": "code",
   "execution_count": 0,
   "metadata": {
    "colab": {},
    "colab_type": "code",
    "id": "bGzz7cB0oc9E"
   },
   "outputs": [],
   "source": [
    "import tensorflow as tf\n",
    "import numpy as np\n",
    "import keras\n",
    "import matplotlib.pyplot as plt\n",
    "from keras.models import Model\n",
    "from keras.layers import Dense,Flatten,Dropout\n",
    "import cv2\n",
    "from keras.applications.vgg16 import VGG16\n",
    "from keras.optimizers import SGD\n",
    "from tqdm import tqdm_notebook as tqdm \n",
    "import os\n",
    "from keras import optimizers\n",
    "from keras.callbacks import EarlyStopping\n"
   ]
  },
  {
   "cell_type": "markdown",
   "metadata": {
    "colab_type": "text",
    "id": "X5wQ1OmlK0QJ"
   },
   "source": [
    "process dataset and split it to training dataset,testing dataset"
   ]
  },
  {
   "cell_type": "code",
   "execution_count": 0,
   "metadata": {
    "_cell_guid": "79c7e3d0-c299-4dcb-8224-4455121ee9b0",
    "_uuid": "d629ff2d2480ee46fbb7e2d37f6b5fab8052498a",
    "colab": {},
    "colab_type": "code",
    "id": "2nA3j96Zanps"
   },
   "outputs": [],
   "source": [
    "img_size = 224\n",
    "num_classes = 15\n",
    "maxepoches = 30\n",
    "batch_size = 50\n",
    "\n",
    "DATASET_PATH = '/content/drive/My Drive/Colab Notebooks/VGG16_Practice/15-Scene'\n",
    "one_hot_lookup = np.eye(num_classes)\n",
    "dataset_x = []\n",
    "dataset_y = []\n",
    "for category in sorted(os.listdir(DATASET_PATH)):\n",
    "    for fname in os.listdir(DATASET_PATH+\"/\"+category):\n",
    "        img = cv2.imread(DATASET_PATH+\"/\"+category+'/'+fname, 2)\n",
    "        img = cv2.resize(img, (img_size,img_size))\n",
    "        dataset_x.append(np.reshape(img, [img_size,img_size,1]))\n",
    "        dataset_y.append(np.reshape(one_hot_lookup[int(category)], [num_classes]))\n",
    "\n",
    "\n",
    "\n",
    "\n",
    "# train_y = keras.utils.to_categorical(train_y).astype('float32')\n",
    "# test_y = keras.utils.to_categorical(test_y).astype('float32')"
   ]
  },
  {
   "cell_type": "code",
   "execution_count": 0,
   "metadata": {
    "colab": {},
    "colab_type": "code",
    "id": "QPgG3-Qnsifr"
   },
   "outputs": [],
   "source": [
    "dataset_x = np.array(dataset_x)\n",
    "dataset_y = np.array(dataset_y)"
   ]
  },
  {
   "cell_type": "code",
   "execution_count": 0,
   "metadata": {
    "colab": {},
    "colab_type": "code",
    "id": "g-FQCPIdgiLH"
   },
   "outputs": [],
   "source": [
    "\n",
    "\"\"\"shuffle dataset\"\"\"\n",
    "p = np.random.permutation(len(dataset_x))\n",
    "dataset_x = dataset_x[p]\n",
    "dataset_y = dataset_y[p]\n",
    "        \n",
    "test_x = dataset_x[:int(len(dataset_x)/10)]\n",
    "test_y = dataset_y[:int(len(dataset_x)/10)]\n",
    "train_x = dataset_x[int(len(dataset_x)/10):]\n",
    "train_y = dataset_y[int(len(dataset_x)/10):]"
   ]
  },
  {
   "cell_type": "markdown",
   "metadata": {
    "colab_type": "text",
    "id": "PHl8Z9w1LCF5"
   },
   "source": [
    "print train_x  train_y  test_x  test_y shape , founding those part is one channel beacuse they are gray image"
   ]
  },
  {
   "cell_type": "code",
   "execution_count": 7,
   "metadata": {
    "colab": {
     "base_uri": "https://localhost:8080/",
     "height": 85
    },
    "colab_type": "code",
    "id": "qAgshJk8anpu",
    "outputId": "c9ecac11-2d3c-4078-872d-fc0a17cc053f"
   },
   "outputs": [
    {
     "name": "stdout",
     "output_type": "stream",
     "text": [
      "(4037, 224, 224, 1)\n",
      "(4037, 15)\n",
      "(448, 224, 224, 1)\n",
      "(448, 15)\n"
     ]
    }
   ],
   "source": [
    "print(train_x.shape)\n",
    "print(train_y.shape)\n",
    "print(test_x.shape)\n",
    "print(test_y.shape)"
   ]
  },
  {
   "cell_type": "markdown",
   "metadata": {
    "colab_type": "text",
    "id": "13vMKewkLPgK"
   },
   "source": [
    "In order fit with VGG16 network , I convert one channel to three channel "
   ]
  },
  {
   "cell_type": "code",
   "execution_count": 8,
   "metadata": {
    "colab": {
     "base_uri": "https://localhost:8080/",
     "height": 51
    },
    "colab_type": "code",
    "id": "0f3Z0Lf-JMFY",
    "outputId": "3f17c7c2-ed8b-474e-ded4-3d56cbb99f73"
   },
   "outputs": [
    {
     "name": "stdout",
     "output_type": "stream",
     "text": [
      "train_x shape : (4037, 224, 224, 3)\n",
      "test_x shape: (448, 224, 224, 3)\n"
     ]
    }
   ],
   "source": [
    "train_x = [cv2.cvtColor(cv2.resize(i,(224,224)), cv2.COLOR_GRAY2BGR) for i in train_x]\n",
    "train_x = np.concatenate([arr[np.newaxis] for arr in train_x]).astype('float32')\n",
    " \n",
    "test_x  = [cv2.cvtColor(cv2.resize(i,(224,224)), cv2.COLOR_GRAY2BGR) for i in test_x ]\n",
    "test_x  = np.concatenate([arr[np.newaxis] for arr in test_x] ).astype('float32')\n",
    "\n",
    "print(\"train_x shape :\",train_x.shape)\n",
    "print(\"test_x shape:\",test_x.shape)"
   ]
  },
  {
   "cell_type": "code",
   "execution_count": 0,
   "metadata": {
    "colab": {},
    "colab_type": "code",
    "id": "aQPnpVHaLm_Q"
   },
   "outputs": [],
   "source": [
    "train_x /= 255\n",
    "test_x /= 255"
   ]
  },
  {
   "cell_type": "markdown",
   "metadata": {
    "colab_type": "text",
    "id": "XdpUTGuLshw-"
   },
   "source": [
    "# **VGG16 from Scretch**"
   ]
  },
  {
   "cell_type": "markdown",
   "metadata": {
    "colab_type": "text",
    "id": "2sfSos6hLc8y"
   },
   "source": [
    "This part is VGG16 from scrtech : weights=None and layer.trainable=True "
   ]
  },
  {
   "cell_type": "code",
   "execution_count": 10,
   "metadata": {
    "colab": {
     "base_uri": "https://localhost:8080/",
     "height": 173
    },
    "colab_type": "code",
    "id": "YUY7aD2FscWT",
    "outputId": "82c38897-4747-4df5-945d-9acd6e0d6a53"
   },
   "outputs": [
    {
     "name": "stdout",
     "output_type": "stream",
     "text": [
      "WARNING:tensorflow:From /usr/local/lib/python3.6/dist-packages/keras/backend/tensorflow_backend.py:66: The name tf.get_default_graph is deprecated. Please use tf.compat.v1.get_default_graph instead.\n",
      "\n",
      "WARNING:tensorflow:From /usr/local/lib/python3.6/dist-packages/keras/backend/tensorflow_backend.py:541: The name tf.placeholder is deprecated. Please use tf.compat.v1.placeholder instead.\n",
      "\n",
      "WARNING:tensorflow:From /usr/local/lib/python3.6/dist-packages/keras/backend/tensorflow_backend.py:4432: The name tf.random_uniform is deprecated. Please use tf.random.uniform instead.\n",
      "\n",
      "WARNING:tensorflow:From /usr/local/lib/python3.6/dist-packages/keras/backend/tensorflow_backend.py:4267: The name tf.nn.max_pool is deprecated. Please use tf.nn.max_pool2d instead.\n",
      "\n"
     ]
    }
   ],
   "source": [
    "\n",
    "model_vgg =VGG16(include_top=False,input_shape=(224,224,3),weights=None)\n",
    "for layer in model_vgg.layers:\n",
    "  layer.trainable=True\n",
    "#model=Flatten(name='Flatten')(model_vgg.output)\n",
    "x = model_vgg.get_layer('block5_pool').output\n",
    "x = Flatten(name='flatten')(x)\n",
    "x = Dense(512, activation='relu', name='fc1')(x)\n",
    "x = Dense(4096, activation='relu', name='fc2')(x)\n",
    "x = Dense(15, activation='softmax', name='predictions')(x)\n"
   ]
  },
  {
   "cell_type": "code",
   "execution_count": 11,
   "metadata": {
    "colab": {
     "base_uri": "https://localhost:8080/",
     "height": 935
    },
    "colab_type": "code",
    "id": "tFO8YfIMwNZ3",
    "outputId": "a0f25b70-fb78-47c1-e7a3-5c597d6f070c"
   },
   "outputs": [
    {
     "name": "stdout",
     "output_type": "stream",
     "text": [
      "Model: \"model_1\"\n",
      "_________________________________________________________________\n",
      "Layer (type)                 Output Shape              Param #   \n",
      "=================================================================\n",
      "input_1 (InputLayer)         (None, 224, 224, 3)       0         \n",
      "_________________________________________________________________\n",
      "block1_conv1 (Conv2D)        (None, 224, 224, 64)      1792      \n",
      "_________________________________________________________________\n",
      "block1_conv2 (Conv2D)        (None, 224, 224, 64)      36928     \n",
      "_________________________________________________________________\n",
      "block1_pool (MaxPooling2D)   (None, 112, 112, 64)      0         \n",
      "_________________________________________________________________\n",
      "block2_conv1 (Conv2D)        (None, 112, 112, 128)     73856     \n",
      "_________________________________________________________________\n",
      "block2_conv2 (Conv2D)        (None, 112, 112, 128)     147584    \n",
      "_________________________________________________________________\n",
      "block2_pool (MaxPooling2D)   (None, 56, 56, 128)       0         \n",
      "_________________________________________________________________\n",
      "block3_conv1 (Conv2D)        (None, 56, 56, 256)       295168    \n",
      "_________________________________________________________________\n",
      "block3_conv2 (Conv2D)        (None, 56, 56, 256)       590080    \n",
      "_________________________________________________________________\n",
      "block3_conv3 (Conv2D)        (None, 56, 56, 256)       590080    \n",
      "_________________________________________________________________\n",
      "block3_pool (MaxPooling2D)   (None, 28, 28, 256)       0         \n",
      "_________________________________________________________________\n",
      "block4_conv1 (Conv2D)        (None, 28, 28, 512)       1180160   \n",
      "_________________________________________________________________\n",
      "block4_conv2 (Conv2D)        (None, 28, 28, 512)       2359808   \n",
      "_________________________________________________________________\n",
      "block4_conv3 (Conv2D)        (None, 28, 28, 512)       2359808   \n",
      "_________________________________________________________________\n",
      "block4_pool (MaxPooling2D)   (None, 14, 14, 512)       0         \n",
      "_________________________________________________________________\n",
      "block5_conv1 (Conv2D)        (None, 14, 14, 512)       2359808   \n",
      "_________________________________________________________________\n",
      "block5_conv2 (Conv2D)        (None, 14, 14, 512)       2359808   \n",
      "_________________________________________________________________\n",
      "block5_conv3 (Conv2D)        (None, 14, 14, 512)       2359808   \n",
      "_________________________________________________________________\n",
      "block5_pool (MaxPooling2D)   (None, 7, 7, 512)         0         \n",
      "_________________________________________________________________\n",
      "flatten (Flatten)            (None, 25088)             0         \n",
      "_________________________________________________________________\n",
      "fc1 (Dense)                  (None, 512)               12845568  \n",
      "_________________________________________________________________\n",
      "fc2 (Dense)                  (None, 4096)              2101248   \n",
      "_________________________________________________________________\n",
      "predictions (Dense)          (None, 15)                61455     \n",
      "=================================================================\n",
      "Total params: 29,722,959\n",
      "Trainable params: 29,722,959\n",
      "Non-trainable params: 0\n",
      "_________________________________________________________________\n"
     ]
    }
   ],
   "source": [
    "#model=Dense(15,activation='softmax')(model)\n",
    "model_vgg_scene=Model(inputs=model_vgg.input, outputs=x)\n",
    "model_vgg_scene.summary()"
   ]
  },
  {
   "cell_type": "code",
   "execution_count": 0,
   "metadata": {
    "colab": {},
    "colab_type": "code",
    "id": "6Qkyiy-2Rbnz"
   },
   "outputs": [],
   "source": [
    "def learning_rate_schedule(epoch):\n",
    "    if epoch <= 10:\n",
    "        return 1e-4 # 0.00001\n",
    "    elif epoch <= 20:\n",
    "        return 1e-5\n",
    "    elif epoch <= 30:\n",
    "        return 1e-6\n",
    "    else:\n",
    "        return 1e-7\n",
    "    return LR"
   ]
  },
  {
   "cell_type": "code",
   "execution_count": 0,
   "metadata": {
    "colab": {},
    "colab_type": "code",
    "id": "KfbnrUUhxHoS"
   },
   "outputs": [],
   "source": [
    "#sgd=SGD(lr=0.05,decay=1e-5)"
   ]
  },
  {
   "cell_type": "code",
   "execution_count": 14,
   "metadata": {
    "colab": {
     "base_uri": "https://localhost:8080/",
     "height": 105
    },
    "colab_type": "code",
    "id": "Nt0au2nTxKxp",
    "outputId": "23d6ff6e-9027-43a7-a17c-15e4488d3ab6"
   },
   "outputs": [
    {
     "name": "stdout",
     "output_type": "stream",
     "text": [
      "WARNING:tensorflow:From /usr/local/lib/python3.6/dist-packages/keras/optimizers.py:793: The name tf.train.Optimizer is deprecated. Please use tf.compat.v1.train.Optimizer instead.\n",
      "\n",
      "WARNING:tensorflow:From /usr/local/lib/python3.6/dist-packages/keras/backend/tensorflow_backend.py:3576: The name tf.log is deprecated. Please use tf.math.log instead.\n",
      "\n"
     ]
    }
   ],
   "source": [
    "model_vgg_scene.compile(loss='categorical_crossentropy',optimizer=optimizers.sgd(lr=0.0001),metrics = ['accuracy'])"
   ]
  },
  {
   "cell_type": "code",
   "execution_count": 15,
   "metadata": {
    "colab": {
     "base_uri": "https://localhost:8080/",
     "height": 34
    },
    "colab_type": "code",
    "id": "gYCck8D_SCi3",
    "outputId": "a28ef252-9b7e-4c56-8e8d-92a4a9e5e673"
   },
   "outputs": [
    {
     "data": {
      "text/plain": [
       "<keras.callbacks.LearningRateScheduler at 0x7efe0201a780>"
      ]
     },
     "execution_count": 15,
     "metadata": {
      "tags": []
     },
     "output_type": "execute_result"
    }
   ],
   "source": [
    "keras.callbacks.LearningRateScheduler(learning_rate_schedule)"
   ]
  },
  {
   "cell_type": "code",
   "execution_count": 16,
   "metadata": {
    "colab": {
     "base_uri": "https://localhost:8080/",
     "height": 1000
    },
    "colab_type": "code",
    "id": "i-q9gKlHxkjq",
    "outputId": "8d3fa4ce-2d0a-4771-9103-21a6656602da"
   },
   "outputs": [
    {
     "name": "stdout",
     "output_type": "stream",
     "text": [
      "WARNING:tensorflow:From /usr/local/lib/python3.6/dist-packages/tensorflow_core/python/ops/math_grad.py:1424: where (from tensorflow.python.ops.array_ops) is deprecated and will be removed in a future version.\n",
      "Instructions for updating:\n",
      "Use tf.where in 2.0, which has the same broadcast rule as np.where\n",
      "WARNING:tensorflow:From /usr/local/lib/python3.6/dist-packages/keras/backend/tensorflow_backend.py:1033: The name tf.assign_add is deprecated. Please use tf.compat.v1.assign_add instead.\n",
      "\n",
      "WARNING:tensorflow:From /usr/local/lib/python3.6/dist-packages/keras/backend/tensorflow_backend.py:1020: The name tf.assign is deprecated. Please use tf.compat.v1.assign instead.\n",
      "\n",
      "WARNING:tensorflow:From /usr/local/lib/python3.6/dist-packages/keras/backend/tensorflow_backend.py:3005: The name tf.Session is deprecated. Please use tf.compat.v1.Session instead.\n",
      "\n",
      "Train on 4037 samples, validate on 448 samples\n",
      "Epoch 1/30\n",
      "WARNING:tensorflow:From /usr/local/lib/python3.6/dist-packages/keras/backend/tensorflow_backend.py:190: The name tf.get_default_session is deprecated. Please use tf.compat.v1.get_default_session instead.\n",
      "\n",
      "WARNING:tensorflow:From /usr/local/lib/python3.6/dist-packages/keras/backend/tensorflow_backend.py:197: The name tf.ConfigProto is deprecated. Please use tf.compat.v1.ConfigProto instead.\n",
      "\n",
      "WARNING:tensorflow:From /usr/local/lib/python3.6/dist-packages/keras/backend/tensorflow_backend.py:207: The name tf.global_variables is deprecated. Please use tf.compat.v1.global_variables instead.\n",
      "\n",
      "WARNING:tensorflow:From /usr/local/lib/python3.6/dist-packages/keras/backend/tensorflow_backend.py:216: The name tf.is_variable_initialized is deprecated. Please use tf.compat.v1.is_variable_initialized instead.\n",
      "\n",
      "WARNING:tensorflow:From /usr/local/lib/python3.6/dist-packages/keras/backend/tensorflow_backend.py:223: The name tf.variables_initializer is deprecated. Please use tf.compat.v1.variables_initializer instead.\n",
      "\n",
      "4037/4037 [==============================] - 133s 33ms/step - loss: 2.7080 - acc: 0.0681 - val_loss: 2.7080 - val_acc: 0.0826\n",
      "Epoch 2/30\n",
      "4037/4037 [==============================] - 114s 28ms/step - loss: 2.7080 - acc: 0.0917 - val_loss: 2.7079 - val_acc: 0.1228\n",
      "Epoch 3/30\n",
      "4037/4037 [==============================] - 114s 28ms/step - loss: 2.7079 - acc: 0.0919 - val_loss: 2.7078 - val_acc: 0.1161\n",
      "Epoch 4/30\n",
      "4037/4037 [==============================] - 114s 28ms/step - loss: 2.7078 - acc: 0.0914 - val_loss: 2.7077 - val_acc: 0.1183\n",
      "Epoch 5/30\n",
      "4037/4037 [==============================] - 114s 28ms/step - loss: 2.7078 - acc: 0.0914 - val_loss: 2.7076 - val_acc: 0.1183\n",
      "Epoch 6/30\n",
      "4037/4037 [==============================] - 114s 28ms/step - loss: 2.7077 - acc: 0.0912 - val_loss: 2.7076 - val_acc: 0.1183\n",
      "Epoch 7/30\n",
      "4037/4037 [==============================] - 114s 28ms/step - loss: 2.7076 - acc: 0.0887 - val_loss: 2.7075 - val_acc: 0.1183\n",
      "Epoch 8/30\n",
      "4037/4037 [==============================] - 114s 28ms/step - loss: 2.7076 - acc: 0.0884 - val_loss: 2.7074 - val_acc: 0.1183\n",
      "Epoch 9/30\n",
      "4037/4037 [==============================] - 114s 28ms/step - loss: 2.7075 - acc: 0.0884 - val_loss: 2.7073 - val_acc: 0.1183\n",
      "Epoch 10/30\n",
      "4037/4037 [==============================] - 114s 28ms/step - loss: 2.7074 - acc: 0.0884 - val_loss: 2.7072 - val_acc: 0.1183\n",
      "Epoch 11/30\n",
      "4037/4037 [==============================] - 114s 28ms/step - loss: 2.7074 - acc: 0.0884 - val_loss: 2.7072 - val_acc: 0.1183\n",
      "Epoch 12/30\n",
      "4037/4037 [==============================] - 114s 28ms/step - loss: 2.7073 - acc: 0.0884 - val_loss: 2.7071 - val_acc: 0.1183\n",
      "Epoch 13/30\n",
      "4037/4037 [==============================] - 114s 28ms/step - loss: 2.7072 - acc: 0.0884 - val_loss: 2.7070 - val_acc: 0.1183\n",
      "Epoch 14/30\n",
      "4037/4037 [==============================] - 114s 28ms/step - loss: 2.7072 - acc: 0.0884 - val_loss: 2.7069 - val_acc: 0.1183\n",
      "Epoch 15/30\n",
      "4037/4037 [==============================] - 114s 28ms/step - loss: 2.7071 - acc: 0.0884 - val_loss: 2.7068 - val_acc: 0.1183\n",
      "Epoch 16/30\n",
      "4037/4037 [==============================] - 114s 28ms/step - loss: 2.7070 - acc: 0.0884 - val_loss: 2.7068 - val_acc: 0.1183\n",
      "Epoch 17/30\n",
      "4037/4037 [==============================] - 114s 28ms/step - loss: 2.7070 - acc: 0.0884 - val_loss: 2.7067 - val_acc: 0.1183\n",
      "Epoch 18/30\n",
      "4037/4037 [==============================] - 114s 28ms/step - loss: 2.7069 - acc: 0.0884 - val_loss: 2.7066 - val_acc: 0.1183\n",
      "Epoch 19/30\n",
      "4037/4037 [==============================] - 114s 28ms/step - loss: 2.7069 - acc: 0.0884 - val_loss: 2.7065 - val_acc: 0.1183\n",
      "Epoch 20/30\n",
      "4037/4037 [==============================] - 114s 28ms/step - loss: 2.7068 - acc: 0.0884 - val_loss: 2.7065 - val_acc: 0.1183\n",
      "Epoch 21/30\n",
      "4037/4037 [==============================] - 114s 28ms/step - loss: 2.7067 - acc: 0.0884 - val_loss: 2.7064 - val_acc: 0.1183\n",
      "Epoch 22/30\n",
      "4037/4037 [==============================] - 114s 28ms/step - loss: 2.7067 - acc: 0.0884 - val_loss: 2.7063 - val_acc: 0.1183\n",
      "Epoch 23/30\n",
      "4037/4037 [==============================] - 114s 28ms/step - loss: 2.7066 - acc: 0.0884 - val_loss: 2.7062 - val_acc: 0.1183\n",
      "Epoch 24/30\n",
      "4037/4037 [==============================] - 114s 28ms/step - loss: 2.7066 - acc: 0.0884 - val_loss: 2.7062 - val_acc: 0.1183\n",
      "Epoch 25/30\n",
      "4037/4037 [==============================] - 114s 28ms/step - loss: 2.7065 - acc: 0.0884 - val_loss: 2.7061 - val_acc: 0.1183\n",
      "Epoch 26/30\n",
      "4037/4037 [==============================] - 114s 28ms/step - loss: 2.7064 - acc: 0.0884 - val_loss: 2.7060 - val_acc: 0.1183\n",
      "Epoch 27/30\n",
      "4037/4037 [==============================] - 114s 28ms/step - loss: 2.7064 - acc: 0.0884 - val_loss: 2.7060 - val_acc: 0.1183\n",
      "Epoch 28/30\n",
      "4037/4037 [==============================] - 114s 28ms/step - loss: 2.7063 - acc: 0.0884 - val_loss: 2.7059 - val_acc: 0.1183\n",
      "Epoch 29/30\n",
      "4037/4037 [==============================] - 114s 28ms/step - loss: 2.7063 - acc: 0.0884 - val_loss: 2.7058 - val_acc: 0.1183\n",
      "Epoch 30/30\n",
      "4037/4037 [==============================] - 114s 28ms/step - loss: 2.7062 - acc: 0.0884 - val_loss: 2.7058 - val_acc: 0.1183\n"
     ]
    }
   ],
   "source": [
    "history=model_vgg_scene.fit(train_x, train_y, validation_data=(test_x, test_y), batch_size=32,shuffle=True, verbose=1, epochs=maxepoches)"
   ]
  },
  {
   "cell_type": "code",
   "execution_count": 0,
   "metadata": {
    "colab": {},
    "colab_type": "code",
    "id": "q33oJcrIRbiS"
   },
   "outputs": [],
   "source": [
    "import matplotlib.pyplot as plt\n",
    "import numpy as np\n",
    "from keras import optimizers\n",
    "from keras.callbacks import EarlyStopping\n"
   ]
  },
  {
   "cell_type": "code",
   "execution_count": 18,
   "metadata": {
    "colab": {
     "base_uri": "https://localhost:8080/",
     "height": 297
    },
    "colab_type": "code",
    "id": "MCsdN1QwLp1_",
    "outputId": "5e024291-7127-406c-c80f-4d15433d9475"
   },
   "outputs": [
    {
     "data": {
      "image/png": "[encoded data removed]",
      "text/plain": [
       "<Figure size 432x288 with 2 Axes>"
      ]
     },
     "metadata": {
      "tags": []
     },
     "output_type": "display_data"
    }
   ],
   "source": [
    "\n",
    "plt.subplot(1, 2, 1)\n",
    "plt.plot(history.history['acc'])\n",
    "plt.legend(['train'], loc='lower right')\n",
    "plt.subplot(1, 2, 2)\n",
    "\n",
    "plt.plot(history.history['val_acc'])\n",
    "plt.legend(['test'], loc='lower right')\n",
    "\n",
    "plt.tight_layout() \n",
    "\n",
    "plt.show()\n"
   ]
  },
  {
   "cell_type": "markdown",
   "metadata": {
    "colab_type": "text",
    "id": "fqmsjHWNwPDj"
   },
   "source": [
    "# **VGG16 Pre-trained**"
   ]
  },
  {
   "cell_type": "markdown",
   "metadata": {
    "colab_type": "text",
    "id": "3ioshqFPMtLy"
   },
   "source": [
    "This part using Pre-trained model ,and I design two parts. First is run 1 times and second is run 3 times .it is clearly that perform one times the accuracy increase a lot, even perform three times the model drop in local-minium"
   ]
  },
  {
   "cell_type": "markdown",
   "metadata": {
    "colab_type": "text",
    "id": "1Pl5BU08wkv2"
   },
   "source": [
    "# **Perform Training one times**"
   ]
  },
  {
   "cell_type": "markdown",
   "metadata": {
    "colab_type": "text",
    "id": "reDKt4pDtKqe"
   },
   "source": [
    "**By using VGG16 pre-trained model run one time ,the accuracy increased to 78.1%**"
   ]
  },
  {
   "cell_type": "code",
   "execution_count": 19,
   "metadata": {
    "colab": {
     "base_uri": "https://localhost:8080/",
     "height": 71
    },
    "colab_type": "code",
    "id": "E1t8057Lw05U",
    "outputId": "f82c042b-d1ed-4e35-9da6-db4a2906583b"
   },
   "outputs": [
    {
     "name": "stdout",
     "output_type": "stream",
     "text": [
      "Downloading data from https://github.com/fchollet/deep-learning-models/releases/download/v0.1/vgg16_weights_tf_dim_ordering_tf_kernels_notop.h5\n",
      "58892288/58889256 [==============================] - 3s 0us/step\n"
     ]
    }
   ],
   "source": [
    "ishape=224\n",
    "model_vgg = VGG16(include_top=False, weights='imagenet', input_shape=(ishape, ishape, 3))\n",
    "for layer in model_vgg.layers:\n",
    "    layer.trainable = False\n"
   ]
  },
  {
   "cell_type": "code",
   "execution_count": 0,
   "metadata": {
    "colab": {},
    "colab_type": "code",
    "id": "DUw6XBhnMrxu"
   },
   "outputs": [],
   "source": [
    "x = model_vgg.get_layer('block5_pool').output\n",
    "x = Flatten(name='flatten')(x)\n",
    "x = Dense(512, activation='relu', name='fc1')(x)\n",
    "x = Dense(4096, activation='relu', name='fc2')(x)\n",
    "x = Dense(15, activation='softmax', name='predictions')(x)\n"
   ]
  },
  {
   "cell_type": "code",
   "execution_count": 21,
   "metadata": {
    "colab": {
     "base_uri": "https://localhost:8080/",
     "height": 935
    },
    "colab_type": "code",
    "id": "fUgKFcG1M_kf",
    "outputId": "be506e21-bc0d-478b-aca1-ebef62822c0c"
   },
   "outputs": [
    {
     "name": "stdout",
     "output_type": "stream",
     "text": [
      "Model: \"model_2\"\n",
      "_________________________________________________________________\n",
      "Layer (type)                 Output Shape              Param #   \n",
      "=================================================================\n",
      "input_2 (InputLayer)         (None, 224, 224, 3)       0         \n",
      "_________________________________________________________________\n",
      "block1_conv1 (Conv2D)        (None, 224, 224, 64)      1792      \n",
      "_________________________________________________________________\n",
      "block1_conv2 (Conv2D)        (None, 224, 224, 64)      36928     \n",
      "_________________________________________________________________\n",
      "block1_pool (MaxPooling2D)   (None, 112, 112, 64)      0         \n",
      "_________________________________________________________________\n",
      "block2_conv1 (Conv2D)        (None, 112, 112, 128)     73856     \n",
      "_________________________________________________________________\n",
      "block2_conv2 (Conv2D)        (None, 112, 112, 128)     147584    \n",
      "_________________________________________________________________\n",
      "block2_pool (MaxPooling2D)   (None, 56, 56, 128)       0         \n",
      "_________________________________________________________________\n",
      "block3_conv1 (Conv2D)        (None, 56, 56, 256)       295168    \n",
      "_________________________________________________________________\n",
      "block3_conv2 (Conv2D)        (None, 56, 56, 256)       590080    \n",
      "_________________________________________________________________\n",
      "block3_conv3 (Conv2D)        (None, 56, 56, 256)       590080    \n",
      "_________________________________________________________________\n",
      "block3_pool (MaxPooling2D)   (None, 28, 28, 256)       0         \n",
      "_________________________________________________________________\n",
      "block4_conv1 (Conv2D)        (None, 28, 28, 512)       1180160   \n",
      "_________________________________________________________________\n",
      "block4_conv2 (Conv2D)        (None, 28, 28, 512)       2359808   \n",
      "_________________________________________________________________\n",
      "block4_conv3 (Conv2D)        (None, 28, 28, 512)       2359808   \n",
      "_________________________________________________________________\n",
      "block4_pool (MaxPooling2D)   (None, 14, 14, 512)       0         \n",
      "_________________________________________________________________\n",
      "block5_conv1 (Conv2D)        (None, 14, 14, 512)       2359808   \n",
      "_________________________________________________________________\n",
      "block5_conv2 (Conv2D)        (None, 14, 14, 512)       2359808   \n",
      "_________________________________________________________________\n",
      "block5_conv3 (Conv2D)        (None, 14, 14, 512)       2359808   \n",
      "_________________________________________________________________\n",
      "block5_pool (MaxPooling2D)   (None, 7, 7, 512)         0         \n",
      "_________________________________________________________________\n",
      "flatten (Flatten)            (None, 25088)             0         \n",
      "_________________________________________________________________\n",
      "fc1 (Dense)                  (None, 512)               12845568  \n",
      "_________________________________________________________________\n",
      "fc2 (Dense)                  (None, 4096)              2101248   \n",
      "_________________________________________________________________\n",
      "predictions (Dense)          (None, 15)                61455     \n",
      "=================================================================\n",
      "Total params: 29,722,959\n",
      "Trainable params: 15,008,271\n",
      "Non-trainable params: 14,714,688\n",
      "_________________________________________________________________\n"
     ]
    }
   ],
   "source": [
    "#model=Dense(15,activation='softmax')(model)\n",
    "model_vgg_pre_scene=Model(inputs=model_vgg.input, outputs=x)\n",
    "model_vgg_pre_scene.summary()"
   ]
  },
  {
   "cell_type": "code",
   "execution_count": 0,
   "metadata": {
    "colab": {},
    "colab_type": "code",
    "id": "Ez7izbsTw18d"
   },
   "outputs": [],
   "source": [
    "# model = Dense(15, activation=\"softmax\")(model)\n",
    "# model_vgg_scene_pretrain = Model(model_vgg.input, model, name='vgg_16_pretrain')\n",
    "# model_vgg_scene_pretrain.summary()"
   ]
  },
  {
   "cell_type": "code",
   "execution_count": 0,
   "metadata": {
    "colab": {},
    "colab_type": "code",
    "id": "M2Xjc-3WNWHT"
   },
   "outputs": [],
   "source": [
    "def learning_rate_schedule(epoch):\n",
    "    if epoch <= 10:\n",
    "        return 1e-4 # 0.00001\n",
    "    elif epoch <= 20:\n",
    "        return 1e-5\n",
    "    elif epoch <= 30:\n",
    "        return 1e-6\n",
    "    else:\n",
    "        return 1e-7\n",
    "    return LR"
   ]
  },
  {
   "cell_type": "code",
   "execution_count": 0,
   "metadata": {
    "colab": {},
    "colab_type": "code",
    "id": "KtbclleWw5hX"
   },
   "outputs": [],
   "source": [
    "#sgd = SGD(lr = 0.01, decay = 1e-5)\n",
    "model_vgg_pre_scene.compile(loss='categorical_crossentropy', optimizer=optimizers.adam(lr=0.0001), metrics = ['accuracy'])"
   ]
  },
  {
   "cell_type": "code",
   "execution_count": 25,
   "metadata": {
    "colab": {
     "base_uri": "https://localhost:8080/",
     "height": 34
    },
    "colab_type": "code",
    "id": "HnwhVbz6Txh7",
    "outputId": "e40a21f2-c534-4db3-952d-98d95148a5ae"
   },
   "outputs": [
    {
     "data": {
      "text/plain": [
       "<keras.callbacks.LearningRateScheduler at 0x7efdf01c5e80>"
      ]
     },
     "execution_count": 25,
     "metadata": {
      "tags": []
     },
     "output_type": "execute_result"
    }
   ],
   "source": [
    "keras.callbacks.LearningRateScheduler(learning_rate_schedule)"
   ]
  },
  {
   "cell_type": "code",
   "execution_count": 26,
   "metadata": {
    "colab": {
     "base_uri": "https://localhost:8080/",
     "height": 411
    },
    "colab_type": "code",
    "id": "wCnxTL7gOYKk",
    "outputId": "9790206e-a429-4953-d56e-b97057a2eaab"
   },
   "outputs": [
    {
     "name": "stdout",
     "output_type": "stream",
     "text": [
      "Train on 4037 samples, validate on 448 samples\n",
      "Epoch 1/10\n",
      "4037/4037 [==============================] - 44s 11ms/step - loss: 1.0449 - acc: 0.6757 - val_loss: 0.5533 - val_acc: 0.7835\n",
      "Epoch 2/10\n",
      "4037/4037 [==============================] - 43s 11ms/step - loss: 0.3380 - acc: 0.8922 - val_loss: 0.4819 - val_acc: 0.8348\n",
      "Epoch 3/10\n",
      "4037/4037 [==============================] - 43s 11ms/step - loss: 0.1855 - acc: 0.9403 - val_loss: 0.4864 - val_acc: 0.8170\n",
      "Epoch 4/10\n",
      "4037/4037 [==============================] - 43s 11ms/step - loss: 0.0925 - acc: 0.9755 - val_loss: 0.4586 - val_acc: 0.8482\n",
      "Epoch 5/10\n",
      "4037/4037 [==============================] - 43s 11ms/step - loss: 0.0614 - acc: 0.9854 - val_loss: 0.4389 - val_acc: 0.8594\n",
      "Epoch 6/10\n",
      "4037/4037 [==============================] - 43s 11ms/step - loss: 0.0324 - acc: 0.9916 - val_loss: 0.4209 - val_acc: 0.8750\n",
      "Epoch 7/10\n",
      "4037/4037 [==============================] - 43s 11ms/step - loss: 0.0238 - acc: 0.9946 - val_loss: 0.4572 - val_acc: 0.8638\n",
      "Epoch 8/10\n",
      "4037/4037 [==============================] - 43s 11ms/step - loss: 0.0155 - acc: 0.9983 - val_loss: 0.4562 - val_acc: 0.8683\n",
      "Epoch 9/10\n",
      "4037/4037 [==============================] - 43s 11ms/step - loss: 0.0151 - acc: 0.9973 - val_loss: 0.4828 - val_acc: 0.8504\n",
      "Epoch 10/10\n",
      "4037/4037 [==============================] - 43s 11ms/step - loss: 0.0103 - acc: 0.9990 - val_loss: 0.4548 - val_acc: 0.8616\n"
     ]
    },
    {
     "data": {
      "text/plain": [
       "<keras.callbacks.History at 0x7efdf018d6d8>"
      ]
     },
     "execution_count": 26,
     "metadata": {
      "tags": []
     },
     "output_type": "execute_result"
    }
   ],
   "source": [
    "model_vgg_pre_scene.fit(train_x, train_y, validation_data=(test_x, test_y), batch_size=32, shuffle=True, verbose=1, epochs=10)"
   ]
  },
  {
   "cell_type": "code",
   "execution_count": 27,
   "metadata": {
    "colab": {
     "base_uri": "https://localhost:8080/",
     "height": 297
    },
    "colab_type": "code",
    "id": "2bWsu6l_OPgt",
    "outputId": "863a4b0d-25f1-4ad2-a15b-36469e472d1e"
   },
   "outputs": [
    {
     "data": {
      "image/png": "[encoded data removed]",
      "text/plain": [
       "<Figure size 432x288 with 2 Axes>"
      ]
     },
     "metadata": {
      "tags": []
     },
     "output_type": "display_data"
    }
   ],
   "source": [
    "plt.subplot(1, 2, 1)\n",
    "plt.plot(model_vgg_pre_scene.history.history['acc'])\n",
    "plt.legend(['train'], loc='lower right')\n",
    "plt.subplot(1, 2, 2)\n",
    "\n",
    "plt.plot(model_vgg_pre_scene.history.history['val_acc'])\n",
    "plt.legend(['test'], loc='lower right')\n",
    "\n",
    "plt.tight_layout() \n",
    "\n",
    "plt.show()\n"
   ]
  },
  {
   "cell_type": "markdown",
   "metadata": {
    "colab_type": "text",
    "id": "arBU9QSeqIfX"
   },
   "source": [
    "# **Perform Training Three Times**"
   ]
  },
  {
   "cell_type": "markdown",
   "metadata": {
    "colab_type": "text",
    "id": "8AbNICfeGXk9"
   },
   "source": [
    "The code which show below is not good way to normlization data in this dataset"
   ]
  },
  {
   "cell_type": "code",
   "execution_count": 0,
   "metadata": {
    "colab": {},
    "colab_type": "code",
    "id": "LpiHwRPcopHF"
   },
   "outputs": [],
   "source": [
    "# from tensorflow.keras.applications.vgg16 import preprocess_input\n",
    "# x_test = preprocess_input(test_x)\n",
    "# x_train = preprocess_input(train_x)"
   ]
  },
  {
   "cell_type": "code",
   "execution_count": 29,
   "metadata": {
    "colab": {
     "base_uri": "https://localhost:8080/",
     "height": 816
    },
    "colab_type": "code",
    "id": "k3NN314YpWBd",
    "outputId": "8fdbf7a3-add6-4df4-a158-d960cb6750a1"
   },
   "outputs": [
    {
     "name": "stdout",
     "output_type": "stream",
     "text": [
      "Model: \"vgg16\"\n",
      "_________________________________________________________________\n",
      "Layer (type)                 Output Shape              Param #   \n",
      "=================================================================\n",
      "input_3 (InputLayer)         (None, 224, 224, 3)       0         \n",
      "_________________________________________________________________\n",
      "block1_conv1 (Conv2D)        (None, 224, 224, 64)      1792      \n",
      "_________________________________________________________________\n",
      "block1_conv2 (Conv2D)        (None, 224, 224, 64)      36928     \n",
      "_________________________________________________________________\n",
      "block1_pool (MaxPooling2D)   (None, 112, 112, 64)      0         \n",
      "_________________________________________________________________\n",
      "block2_conv1 (Conv2D)        (None, 112, 112, 128)     73856     \n",
      "_________________________________________________________________\n",
      "block2_conv2 (Conv2D)        (None, 112, 112, 128)     147584    \n",
      "_________________________________________________________________\n",
      "block2_pool (MaxPooling2D)   (None, 56, 56, 128)       0         \n",
      "_________________________________________________________________\n",
      "block3_conv1 (Conv2D)        (None, 56, 56, 256)       295168    \n",
      "_________________________________________________________________\n",
      "block3_conv2 (Conv2D)        (None, 56, 56, 256)       590080    \n",
      "_________________________________________________________________\n",
      "block3_conv3 (Conv2D)        (None, 56, 56, 256)       590080    \n",
      "_________________________________________________________________\n",
      "block3_pool (MaxPooling2D)   (None, 28, 28, 256)       0         \n",
      "_________________________________________________________________\n",
      "block4_conv1 (Conv2D)        (None, 28, 28, 512)       1180160   \n",
      "_________________________________________________________________\n",
      "block4_conv2 (Conv2D)        (None, 28, 28, 512)       2359808   \n",
      "_________________________________________________________________\n",
      "block4_conv3 (Conv2D)        (None, 28, 28, 512)       2359808   \n",
      "_________________________________________________________________\n",
      "block4_pool (MaxPooling2D)   (None, 14, 14, 512)       0         \n",
      "_________________________________________________________________\n",
      "block5_conv1 (Conv2D)        (None, 14, 14, 512)       2359808   \n",
      "_________________________________________________________________\n",
      "block5_conv2 (Conv2D)        (None, 14, 14, 512)       2359808   \n",
      "_________________________________________________________________\n",
      "block5_conv3 (Conv2D)        (None, 14, 14, 512)       2359808   \n",
      "_________________________________________________________________\n",
      "block5_pool (MaxPooling2D)   (None, 7, 7, 512)         0         \n",
      "=================================================================\n",
      "Total params: 14,714,688\n",
      "Trainable params: 14,714,688\n",
      "Non-trainable params: 0\n",
      "_________________________________________________________________\n",
      "None\n"
     ]
    }
   ],
   "source": [
    "ishape=224\n",
    "\n",
    "model = VGG16(weights='imagenet', include_top=False, input_shape=(ishape, ishape, 3))\n",
    "for layer in model_vgg.layers:\n",
    "    layer.trainable = False\n",
    "print(model.summary())"
   ]
  },
  {
   "cell_type": "code",
   "execution_count": 0,
   "metadata": {
    "colab": {},
    "colab_type": "code",
    "id": "IUXyqQB3ptcx"
   },
   "outputs": [],
   "source": [
    "from keras.layers import Flatten, Dense\n",
    "from keras.models import Model\n",
    "\n",
    "x = model.get_layer('block5_pool').output\n",
    "x = Flatten(name='flatten')(x)\n",
    "x = Dense(512, activation='relu', name='fc1')(x)\n",
    "#x = Dense(4096, activation='relu', name='fc2')(x)\n",
    "x = Dense(15, activation='softmax', name='predictions')(x)\n",
    "\n",
    "model_pre_updated = Model(inputs=model.input, outputs=x)"
   ]
  },
  {
   "cell_type": "code",
   "execution_count": 0,
   "metadata": {
    "colab": {},
    "colab_type": "code",
    "id": "Vc_b4tgMqBz9"
   },
   "outputs": [],
   "source": [
    "def learning_rate_schedule(epoch):\n",
    "    if epoch <= 10:\n",
    "        return 1e-4 # 0.00001\n",
    "    elif epoch <= 20:\n",
    "        return 1e-5\n",
    "    elif epoch <= 30:\n",
    "        return 1e-6\n",
    "    else:\n",
    "        return 1e-7\n",
    "    return LR"
   ]
  },
  {
   "cell_type": "code",
   "execution_count": 0,
   "metadata": {
    "colab": {},
    "colab_type": "code",
    "id": "YBFQzjTqqEmg"
   },
   "outputs": [],
   "source": [
    "model_pre_updated.save_weights('model_initial.h5')"
   ]
  },
  {
   "cell_type": "code",
   "execution_count": 33,
   "metadata": {
    "colab": {
     "base_uri": "https://localhost:8080/",
     "height": 1000
    },
    "colab_type": "code",
    "id": "JaUMNx3DqOcE",
    "outputId": "195ae48e-a855-4ec5-82a4-9ba9e2cababe"
   },
   "outputs": [
    {
     "name": "stdout",
     "output_type": "stream",
     "text": [
      "Train on 4037 samples, validate on 448 samples\n",
      "Epoch 1/10\n",
      "4037/4037 [==============================] - 119s 29ms/step - loss: 1.0252 - acc: 0.6554 - val_loss: 0.6536 - val_acc: 0.7656\n",
      "Epoch 2/10\n",
      "4037/4037 [==============================] - 118s 29ms/step - loss: 0.4258 - acc: 0.8556 - val_loss: 0.5316 - val_acc: 0.8058\n",
      "Epoch 3/10\n",
      "4037/4037 [==============================] - 118s 29ms/step - loss: 0.2794 - acc: 0.9009 - val_loss: 0.7661 - val_acc: 0.7545\n",
      "Epoch 4/10\n",
      "4037/4037 [==============================] - 117s 29ms/step - loss: 0.2117 - acc: 0.9289 - val_loss: 0.4589 - val_acc: 0.8393\n",
      "Epoch 5/10\n",
      "4037/4037 [==============================] - 117s 29ms/step - loss: 0.1320 - acc: 0.9562 - val_loss: 0.6158 - val_acc: 0.8237\n",
      "Epoch 6/10\n",
      "4037/4037 [==============================] - 117s 29ms/step - loss: 0.0958 - acc: 0.9693 - val_loss: 0.5353 - val_acc: 0.8348\n",
      "Epoch 7/10\n",
      "4037/4037 [==============================] - 117s 29ms/step - loss: 0.0789 - acc: 0.9710 - val_loss: 0.6736 - val_acc: 0.8192\n",
      "Epoch 8/10\n",
      "4037/4037 [==============================] - 117s 29ms/step - loss: 0.0724 - acc: 0.9757 - val_loss: 0.5754 - val_acc: 0.8371\n",
      "Epoch 9/10\n",
      "4037/4037 [==============================] - 117s 29ms/step - loss: 0.0746 - acc: 0.9720 - val_loss: 0.5155 - val_acc: 0.8594\n",
      "Epoch 10/10\n",
      "4037/4037 [==============================] - 117s 29ms/step - loss: 0.0687 - acc: 0.9780 - val_loss: 0.5576 - val_acc: 0.8527\n",
      "\n",
      "Train on 4037 samples, validate on 448 samples\n",
      "Epoch 1/10\n",
      "4037/4037 [==============================] - 119s 30ms/step - loss: 1.1600 - acc: 0.6178 - val_loss: 0.8131 - val_acc: 0.7388\n",
      "Epoch 2/10\n",
      "4037/4037 [==============================] - 118s 29ms/step - loss: 0.4985 - acc: 0.8283 - val_loss: 0.5978 - val_acc: 0.7924\n",
      "Epoch 3/10\n",
      "4037/4037 [==============================] - 118s 29ms/step - loss: 0.2724 - acc: 0.9036 - val_loss: 0.3909 - val_acc: 0.8594\n",
      "Epoch 4/10\n",
      "4037/4037 [==============================] - 117s 29ms/step - loss: 0.2020 - acc: 0.9274 - val_loss: 0.5724 - val_acc: 0.8371\n",
      "Epoch 5/10\n",
      "4037/4037 [==============================] - 117s 29ms/step - loss: 0.1477 - acc: 0.9475 - val_loss: 0.4733 - val_acc: 0.8393\n",
      "Epoch 6/10\n",
      "4037/4037 [==============================] - 117s 29ms/step - loss: 0.0951 - acc: 0.9663 - val_loss: 0.5295 - val_acc: 0.8460\n",
      "Epoch 7/10\n",
      "4037/4037 [==============================] - 117s 29ms/step - loss: 0.1228 - acc: 0.9567 - val_loss: 0.4194 - val_acc: 0.8594\n",
      "Epoch 8/10\n",
      "4037/4037 [==============================] - 117s 29ms/step - loss: 0.0514 - acc: 0.9841 - val_loss: 0.4565 - val_acc: 0.8705\n",
      "Epoch 9/10\n",
      "4037/4037 [==============================] - 117s 29ms/step - loss: 0.0314 - acc: 0.9896 - val_loss: 0.6239 - val_acc: 0.8460\n",
      "Epoch 10/10\n",
      "4037/4037 [==============================] - 117s 29ms/step - loss: 0.0711 - acc: 0.9762 - val_loss: 0.7228 - val_acc: 0.8214\n",
      "\n",
      "Train on 4037 samples, validate on 448 samples\n",
      "Epoch 1/10\n",
      "4037/4037 [==============================] - 120s 30ms/step - loss: 1.0940 - acc: 0.6289 - val_loss: 0.5747 - val_acc: 0.8147\n",
      "Epoch 2/10\n",
      "4037/4037 [==============================] - 118s 29ms/step - loss: 0.4771 - acc: 0.8400 - val_loss: 0.6016 - val_acc: 0.7835\n",
      "Epoch 3/10\n",
      "4037/4037 [==============================] - 118s 29ms/step - loss: 0.3061 - acc: 0.8960 - val_loss: 0.5267 - val_acc: 0.8103\n",
      "Epoch 4/10\n",
      "4037/4037 [==============================] - 118s 29ms/step - loss: 0.1666 - acc: 0.9453 - val_loss: 0.4529 - val_acc: 0.8683\n",
      "Epoch 5/10\n",
      "4037/4037 [==============================] - 118s 29ms/step - loss: 0.1606 - acc: 0.9472 - val_loss: 0.3962 - val_acc: 0.8683\n",
      "Epoch 6/10\n",
      "4037/4037 [==============================] - 117s 29ms/step - loss: 0.0886 - acc: 0.9700 - val_loss: 0.4773 - val_acc: 0.8594\n",
      "Epoch 7/10\n",
      "4037/4037 [==============================] - 117s 29ms/step - loss: 0.1192 - acc: 0.9596 - val_loss: 0.5349 - val_acc: 0.8393\n",
      "Epoch 8/10\n",
      "4037/4037 [==============================] - 117s 29ms/step - loss: 0.0955 - acc: 0.9678 - val_loss: 0.3961 - val_acc: 0.8705\n",
      "Epoch 9/10\n",
      "4037/4037 [==============================] - 117s 29ms/step - loss: 0.0477 - acc: 0.9819 - val_loss: 0.7749 - val_acc: 0.8281\n",
      "Epoch 10/10\n",
      "4037/4037 [==============================] - 117s 29ms/step - loss: 0.0381 - acc: 0.9876 - val_loss: 0.4519 - val_acc: 0.8817\n",
      "\n"
     ]
    }
   ],
   "source": [
    "from keras import optimizers\n",
    "from keras.callbacks import EarlyStopping\n",
    "\n",
    "model_pre_updated.save_weights('model_initial.h5')\n",
    "training_runs = []\n",
    "for i in range(3):\n",
    "    #model_updated.compile(loss='categorical_crossentropy', optimizer='sgd', metrics=['accuracy'])\n",
    "    \n",
    "    model_pre_updated.compile(loss='categorical_crossentropy', optimizer=optimizers.adam(lr=0.0001), metrics=['accuracy'])\n",
    "    keras.callbacks.LearningRateScheduler(learning_rate_schedule)\n",
    "    history = model_pre_updated.fit(train_x, train_y, batch_size=32,  shuffle=True,verbose=1, epochs=10, validation_data=(test_x, test_y))\n",
    "    training_runs.append(history)\n",
    "    model_pre_updated.get_weights()\n",
    "    if i == 2:\n",
    "        model_pre_updated.save_weights('model1.h5')\n",
    "    else:\n",
    "        model_pre_updated.load_weights('model_initial.h5')\n",
    "    print()"
   ]
  },
  {
   "cell_type": "code",
   "execution_count": 0,
   "metadata": {
    "colab": {},
    "colab_type": "code",
    "id": "UHkWpARsJU3V"
   },
   "outputs": [],
   "source": [
    "import matplotlib.pyplot as plt\n",
    "import numpy as np"
   ]
  },
  {
   "cell_type": "code",
   "execution_count": 35,
   "metadata": {
    "colab": {
     "base_uri": "https://localhost:8080/",
     "height": 331
    },
    "colab_type": "code",
    "id": "WomiJVFDJR_R",
    "outputId": "92e5e1fa-d992-4c0e-d653-57667cbac70f"
   },
   "outputs": [
    {
     "data": {
      "image/png": "[encoded data removed]",
      "text/plain": [
       "<Figure size 432x288 with 6 Axes>"
      ]
     },
     "metadata": {
      "tags": []
     },
     "output_type": "display_data"
    },
    {
     "name": "stdout",
     "output_type": "stream",
     "text": [
      "Average training accuracy: 0.9805961522631992\n",
      "Average testing accuracy: 0.8519345238095237\n"
     ]
    }
   ],
   "source": [
    "plt.subplot(2, 3, 1)\n",
    "plt.plot(training_runs[0].history['acc'])\n",
    "plt.legend(['train'], loc='lower right')\n",
    "\n",
    "plt.subplot(2, 3, 2)\n",
    "plt.plot(training_runs[1].history['acc'])\n",
    "plt.legend(['train'], loc='lower right')\n",
    "\n",
    "plt.subplot(2, 3, 3)\n",
    "plt.plot(training_runs[2].history['acc'])\n",
    "plt.legend(['train'], loc='lower right')\n",
    "\n",
    "plt.subplot(2, 3, 4)\n",
    "plt.plot(training_runs[0].history['val_acc'])\n",
    "plt.legend(['test'], loc='lower right')\n",
    "\n",
    "plt.subplot(2, 3, 5)\n",
    "plt.plot(training_runs[1].history['val_acc'])\n",
    "plt.legend(['test'], loc='lower right')\n",
    "\n",
    "plt.subplot(2, 3, 6)\n",
    "plt.plot(training_runs[2].history['val_acc'])\n",
    "plt.legend(['test'], loc='lower right')\n",
    "\n",
    "plt.tight_layout() \n",
    "\n",
    "plt.show()\n",
    "\n",
    "print(\"Average training accuracy: {}\".format(np.mean([training_runs[0].history['acc'][-1], \n",
    "                                                     training_runs[1].history['acc'][-1], training_runs[2].history['acc'][-1]])))\n",
    "print(\"Average testing accuracy: {}\".format(np.mean([training_runs[0].history['val_acc'][-1], \n",
    "                                                     training_runs[1].history['val_acc'][-1], training_runs[2].history['val_acc'][-1]])))"
   ]
  }
 ],
 "metadata": {
  "accelerator": "GPU",
  "colab": {
   "collapsed_sections": [],
   "name": "VGG_Scene_15.ipynb",
   "provenance": [],
   "toc_visible": true
  },
  "kernelspec": {
   "display_name": "Python 3",
   "language": "python",
   "name": "python3"
  },
  "language_info": {
   "codemirror_mode": {
    "name": "ipython",
    "version": 3
   },
   "file_extension": ".py",
   "mimetype": "text/x-python",
   "name": "python",
   "nbconvert_exporter": "python",
   "pygments_lexer": "ipython3",
   "version": "3.6.7"
  }
 },
 "nbformat": 4,
 "nbformat_minor": 1
}
